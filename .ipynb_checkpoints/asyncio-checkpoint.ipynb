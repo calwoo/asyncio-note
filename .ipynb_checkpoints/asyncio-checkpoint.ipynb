{
 "cells": [
  {
   "cell_type": "markdown",
   "metadata": {},
   "source": [
    "### What is asyncIO?\n",
    "\n",
    "Okay, to start, we should flesh out the difference between **parallelism** and **concurrency**.\n",
    "\n",
    "*Parallelism* = performing multiple things at the same time\n",
    "\n",
    "*Concurrency* = a broader term. Refers to the ability of different parts or units of a program, algorithm, or problem to be executed out-of-order or in partial order, without affecting the final outcome.\n",
    "\n",
    "So what are some execution models for concurrency? The most common is given by **threading**, in which multiple threads take turns executing tasks. Done well enough, this gives the *illusion* of multi-processing parallelism.\n",
    "\n",
    "![differences](http://www.dietergalea.com/images/parallel_sequential_concurrent.jpg)"
   ]
  },
  {
   "cell_type": "markdown",
   "metadata": {},
   "source": [
    "`async` is itself an entirely different model for concurrency, instead following an asynchronous model. What does it mean to be **asynchronous**? Asynchronous routines are able to “pause” while waiting on their ultimate result and let other routines run in the meantime. Note this could be done on a single thread!"
   ]
  },
  {
   "cell_type": "markdown",
   "metadata": {},
   "source": [
    "Python's implementation of asynchronous IO is given by the `asyncio` package, and the keywords `async` and `await`.\n",
    "\n",
    "At the heart of async IO are **coroutines**. A coroutine is a specialized version of a Python generator function. Let’s start with a baseline definition and then build off of it as you progress here: a coroutine is a function that can suspend its execution before reaching return, and it can indirectly pass control to another coroutine for some time."
   ]
  },
  {
   "cell_type": "code",
   "execution_count": 2,
   "metadata": {},
   "outputs": [
    {
     "data": {
      "text/plain": [
       "<Task pending coro=<start() running at <ipython-input-2-c6ac43c2cc99>:8>>"
      ]
     },
     "execution_count": 2,
     "metadata": {},
     "output_type": "execute_result"
    },
    {
     "name": "stdout",
     "output_type": "stream",
     "text": [
      "one\n",
      "one\n",
      "one\n",
      "two\n",
      "two\n",
      "two\n"
     ]
    }
   ],
   "source": [
    "import asyncio\n",
    "\n",
    "async def count():\n",
    "    print(\"one\")\n",
    "    await asyncio.sleep(1) # tells event loop this process will wait for 1 sec, move on to other tasks\n",
    "    print(\"two\")\n",
    "    \n",
    "async def start():\n",
    "    await asyncio.gather(count(), count(), count())\n",
    "\n",
    "loop = asyncio.get_event_loop()\n",
    "loop.create_task(start()) # this is needed for jupyter. otherwise run loop.run_until_complete(start())"
   ]
  },
  {
   "cell_type": "markdown",
   "metadata": {},
   "source": [
    "In contrast, a synchronous piece of code will act as:"
   ]
  },
  {
   "cell_type": "code",
   "execution_count": 5,
   "metadata": {},
   "outputs": [
    {
     "name": "stdout",
     "output_type": "stream",
     "text": [
      "One\n",
      "Two\n",
      "One\n",
      "Two\n",
      "One\n",
      "Two\n",
      "executed in 3.00 seconds.\n"
     ]
    }
   ],
   "source": [
    "import time\n",
    "\n",
    "def count():\n",
    "    print(\"one\")\n",
    "    time.sleep(1)\n",
    "    print(\"two\")\n",
    "\n",
    "def start():\n",
    "    for _ in range(3):\n",
    "        count()\n",
    "\n",
    "s = time.perf_counter()\n",
    "start()\n",
    "elapsed = time.perf_counter() - s\n",
    "print(f\"executed in {elapsed:0.2f} seconds.\")"
   ]
  },
  {
   "cell_type": "markdown",
   "metadata": {},
   "source": [
    "The syntax `async def` introduces either a native coroutine or an asynchronous generator. The expressions `async with` and `async for` are also valid, and you’ll see them later on.\n",
    "\n",
    "The keyword `await` passes function control back to the event loop. (It suspends the execution of the surrounding coroutine.) If Python encounters an `await f()` expression in the scope of `g()`, this is how `await` tells the event loop, “Suspend execution of `g()` until whatever I’m waiting on—the result of `f()`—is returned. In the meantime, go let something else run.”"
   ]
  },
  {
   "cell_type": "code",
   "execution_count": null,
   "metadata": {},
   "outputs": [],
   "source": [
    "async def g():\n",
    "    r = await f() # pause and wait for f() to complete before coming back\n",
    "    return r"
   ]
  }
 ],
 "metadata": {
  "kernelspec": {
   "display_name": "Python 3",
   "language": "python",
   "name": "python3"
  },
  "language_info": {
   "codemirror_mode": {
    "name": "ipython",
    "version": 3
   },
   "file_extension": ".py",
   "mimetype": "text/x-python",
   "name": "python",
   "nbconvert_exporter": "python",
   "pygments_lexer": "ipython3",
   "version": "3.6.7"
  }
 },
 "nbformat": 4,
 "nbformat_minor": 2
}
