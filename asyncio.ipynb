{
 "cells": [
  {
   "cell_type": "markdown",
   "metadata": {},
   "source": [
    "### What is asyncIO?\n",
    "\n",
    "Okay, to start, we should flesh out the difference between **parallelism** and **concurrency**.\n",
    "\n",
    "*Parallelism* = performing multiple things at the same time\n",
    "\n",
    "*Concurrency* = a broader term. Refers to the ability of different parts or units of a program, algorithm, or problem to be executed out-of-order or in partial order, without affecting the final outcome.\n",
    "\n",
    "So what are some execution models for concurrency? The most common is given by **threading**, in which multiple threads take turns executing tasks. Done well enough, this gives the *illusion* of multi-processing parallelism.\n",
    "\n",
    "![differences](http://www.dietergalea.com/images/parallel_sequential_concurrent.jpg)"
   ]
  },
  {
   "cell_type": "markdown",
   "metadata": {},
   "source": [
    "`async` is itself an entirely different model for concurrency, instead following an asynchronous model. What does it mean to be **asynchronous**? Asynchronous routines are able to “pause” while waiting on their ultimate result and let other routines run in the meantime. Note this could be done on a single thread!"
   ]
  },
  {
   "cell_type": "markdown",
   "metadata": {},
   "source": [
    "Python's implementation of asynchronous IO is given by the `asyncio` package, and the keywords `async` and `await`.\n",
    "\n",
    "At the heart of async IO are **coroutines**. A coroutine is a specialized version of a Python generator function. Let’s start with a baseline definition and then build off of it as you progress here: a coroutine is a function that can suspend its execution before reaching return, and it can indirectly pass control to another coroutine for some time."
   ]
  },
  {
   "cell_type": "code",
   "execution_count": 1,
   "metadata": {},
   "outputs": [
    {
     "data": {
      "text/plain": [
       "<Task pending coro=<start() running at <ipython-input-1-76909265fc3d>:8>>"
      ]
     },
     "execution_count": 1,
     "metadata": {},
     "output_type": "execute_result"
    },
    {
     "name": "stdout",
     "output_type": "stream",
     "text": [
      "one\n",
      "one\n",
      "one\n",
      "two\n",
      "two\n",
      "two\n"
     ]
    }
   ],
   "source": [
    "import asyncio\n",
    "\n",
    "async def count():\n",
    "    print(\"one\")\n",
    "    await asyncio.sleep(1) # tells event loop this process will wait for 1 sec, move on to other tasks\n",
    "    print(\"two\")\n",
    "    \n",
    "async def start():\n",
    "    await asyncio.gather(count(), count(), count())\n",
    "\n",
    "loop = asyncio.get_event_loop()\n",
    "loop.create_task(start()) # this is needed for jupyter. otherwise run loop.run_until_complete(start())"
   ]
  },
  {
   "cell_type": "markdown",
   "metadata": {},
   "source": [
    "In contrast, a synchronous piece of code will act as:"
   ]
  },
  {
   "cell_type": "code",
   "execution_count": 2,
   "metadata": {},
   "outputs": [
    {
     "name": "stdout",
     "output_type": "stream",
     "text": [
      "one\n",
      "two\n",
      "one\n",
      "two\n",
      "one\n",
      "two\n",
      "executed in 3.00 seconds.\n"
     ]
    }
   ],
   "source": [
    "import time\n",
    "\n",
    "def count():\n",
    "    print(\"one\")\n",
    "    time.sleep(1)\n",
    "    print(\"two\")\n",
    "\n",
    "def start():\n",
    "    for _ in range(3):\n",
    "        count()\n",
    "\n",
    "s = time.perf_counter()\n",
    "start()\n",
    "elapsed = time.perf_counter() - s\n",
    "print(f\"executed in {elapsed:0.2f} seconds.\")"
   ]
  },
  {
   "cell_type": "markdown",
   "metadata": {},
   "source": [
    "The syntax `async def` introduces either a native coroutine or an asynchronous generator. The expressions `async with` and `async for` are also valid, and you’ll see them later on.\n",
    "\n",
    "The keyword `await` passes function control back to the event loop. (It suspends the execution of the surrounding coroutine.) If Python encounters an `await f()` expression in the scope of `g()`, this is how `await` tells the event loop, “Suspend execution of `g()` until whatever I’m waiting on—the result of `f()`—is returned. In the meantime, go let something else run.”"
   ]
  },
  {
   "cell_type": "code",
   "execution_count": 3,
   "metadata": {},
   "outputs": [],
   "source": [
    "async def g():\n",
    "    r = await f() # pause and wait for f() to complete before coming back\n",
    "    return r"
   ]
  },
  {
   "cell_type": "code",
   "execution_count": 4,
   "metadata": {},
   "outputs": [
    {
     "data": {
      "text/plain": [
       "<Task pending coro=<start() running at <ipython-input-4-5297979d9222>:24>>"
      ]
     },
     "execution_count": 4,
     "metadata": {},
     "output_type": "execute_result"
    },
    {
     "name": "stdout",
     "output_type": "stream",
     "text": [
      "\u001b[35mInitiated makerandom(2).\n",
      "\u001b[35mmakerandom(2) == 4 too low; retrying.\n",
      "\u001b[91mInitiated makerandom(1).\n",
      "\u001b[91mmakerandom(1) == 4 too low; retrying.\n",
      "\u001b[36mInitiated makerandom(0).\n",
      "\u001b[36mmakerandom(0) == 0 too low; retrying.\n",
      "\u001b[36mmakerandom(0) == 4 too low; retrying.\n",
      "\u001b[91mmakerandom(1) == 7 too low; retrying.\n",
      "\u001b[36mmakerandom(0) == 4 too low; retrying.\n",
      "\u001b[35mmakerandom(2) == 4 too low; retrying.\n",
      "\u001b[36mmakerandom(0) == 8 too low; retrying.\n",
      "\u001b[91m---> Finished: makerandom(1) == 10\u001b[0m\n",
      "\u001b[36mmakerandom(0) == 7 too low; retrying.\n",
      "\u001b[36mmakerandom(0) == 8 too low; retrying.\n",
      "\u001b[35mmakerandom(2) == 4 too low; retrying.\n",
      "\u001b[36mmakerandom(0) == 7 too low; retrying.\n",
      "\u001b[36mmakerandom(0) == 1 too low; retrying.\n",
      "\u001b[36mmakerandom(0) == 6 too low; retrying.\n",
      "\u001b[35m---> Finished: makerandom(2) == 9\u001b[0m\n",
      "\u001b[36mmakerandom(0) == 3 too low; retrying.\n",
      "\u001b[36mmakerandom(0) == 9 too low; retrying.\n",
      "\u001b[36mmakerandom(0) == 7 too low; retrying.\n",
      "\u001b[36m---> Finished: makerandom(0) == 10\u001b[0m\n"
     ]
    }
   ],
   "source": [
    "import random\n",
    "\n",
    "# ANSI colors\n",
    "c = (\n",
    "    \"\\033[0m\",   # End of color\n",
    "    \"\\033[36m\",  # Cyan\n",
    "    \"\\033[91m\",  # Red\n",
    "    \"\\033[35m\",  # Magenta\n",
    ")\n",
    "\n",
    "async def randint(a: int, b: int) -> int:\n",
    "    return random.randint(a, b)\n",
    "\n",
    "async def makerandom(idx: int, threshold: int = 6) -> int:\n",
    "    print(c[idx + 1] + f\"Initiated makerandom({idx}).\")\n",
    "    i = await randint(0, 10)\n",
    "    while i <= threshold:\n",
    "        print(c[idx + 1] + f\"makerandom({idx}) == {i} too low; retrying.\")\n",
    "        await asyncio.sleep(idx + 1)\n",
    "        i = await randint(0, 10)\n",
    "    print(c[idx + 1] + f\"---> Finished: makerandom({idx}) == {i}\" + c[0])\n",
    "    return i\n",
    "\n",
    "async def start():\n",
    "    res = await asyncio.gather(*(makerandom(i, 10 - i - 1) for i in range(3)))\n",
    "    return res\n",
    "\n",
    "\n",
    "random.seed(444)\n",
    "loop.create_task(start())"
   ]
  },
  {
   "cell_type": "code",
   "execution_count": null,
   "metadata": {},
   "outputs": [],
   "source": []
  }
 ],
 "metadata": {
  "kernelspec": {
   "display_name": "Python 3",
   "language": "python",
   "name": "python3"
  },
  "language_info": {
   "codemirror_mode": {
    "name": "ipython",
    "version": 3
   },
   "file_extension": ".py",
   "mimetype": "text/x-python",
   "name": "python",
   "nbconvert_exporter": "python",
   "pygments_lexer": "ipython3",
   "version": "3.6.7"
  }
 },
 "nbformat": 4,
 "nbformat_minor": 2
}
